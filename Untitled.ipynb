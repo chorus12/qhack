{
 "cells": [
  {
   "cell_type": "code",
   "execution_count": 1,
   "metadata": {},
   "outputs": [],
   "source": [
    "import numpy as np\n",
    "from sklearn.linear_model import LinearRegression"
   ]
  },
  {
   "cell_type": "code",
   "execution_count": 26,
   "metadata": {},
   "outputs": [],
   "source": [
    "def generateState():\n",
    "    s0 = np.random.random_sample() * 2 - 1\n",
    "    s1 = np.random.random_sample() * 2 - 1\n",
    "    s2 = np.random.random_sample() * 2 - 1\n",
    "    s3 = np.random.random_sample() * 2 - 1\n",
    "    state = np.array([s0, s1, s2, s3]/np.sqrt(s0 ** 2 + s1 ** 2 + s2 ** 2 + s3 ** 2))\n",
    "    return state"
   ]
  },
  {
   "cell_type": "code",
   "execution_count": 29,
   "metadata": {},
   "outputs": [
    {
     "data": {
      "text/plain": [
       "array([-0.39294949,  0.11574793,  0.50612262,  0.75896838])"
      ]
     },
     "execution_count": 29,
     "metadata": {},
     "output_type": "execute_result"
    }
   ],
   "source": [
    "generateState()"
   ]
  },
  {
   "cell_type": "code",
   "execution_count": 91,
   "metadata": {},
   "outputs": [],
   "source": [
    "# Initial parameters\n",
    "\n",
    "a = 1\n",
    "b = 0\n",
    "phi = 0"
   ]
  },
  {
   "cell_type": "code",
   "execution_count": 76,
   "metadata": {},
   "outputs": [],
   "source": [
    "password = 'gaiphi7aan'\n",
    "\n",
    "process_index = 0\n",
    "number_of_states = 100\n",
    "state = np.array([1, 0, 0, 0])\n",
    "projector = np.array([1, 0, 0, 0])"
   ]
  },
  {
   "cell_type": "code",
   "execution_count": 127,
   "metadata": {},
   "outputs": [],
   "source": [
    "alpha = state[0]+state[1]*1j\n",
    "beta = state[2]+state[3]*1j\n",
    "m = projector[0]+projector[1]*1j\n",
    "n = projector[2]+projector[3]*1j"
   ]
  },
  {
   "cell_type": "code",
   "execution_count": 115,
   "metadata": {},
   "outputs": [],
   "source": [
    "def probability(alpha, beta, m, n):\n",
    "    part1 = np.abs(m) ** 2 * np.abs((a * alpha + b * beta)) ** 2\n",
    "    part2 = np.conj(m) * n * (a*alpha + b*beta) * np.exp(-phi*1j) * (a*np.conj(beta) - alpha*np.conj(b))\n",
    "    part3 = m * np.conj(n) * (np.conj(a)*np.conj(alpha) + np.conj(b)*np.conj(beta)) * np.exp(phi*1j) * (np.conj(a)*beta - np.conj(b)*alpha)\n",
    "    part4 = np.abs(n) ** 2 * np.abs(np.conj(a)*beta - alpha*np.conj(b))\n",
    "    return part1 + part2 + part3 + part4"
   ]
  },
  {
   "cell_type": "code",
   "execution_count": 129,
   "metadata": {},
   "outputs": [
    {
     "data": {
      "text/plain": [
       "(0.5267294414380862+0j)"
      ]
     },
     "execution_count": 129,
     "metadata": {},
     "output_type": "execute_result"
    }
   ],
   "source": [
    "state = generateState()\n",
    "projector = np.array([1, 0, 0, 0])\n",
    "probability(alpha, beta, m, n)"
   ]
  },
  {
   "cell_type": "code",
   "execution_count": 81,
   "metadata": {},
   "outputs": [
    {
     "name": "stdout",
     "output_type": "stream",
     "text": [
      "100 0\n"
     ]
    }
   ],
   "source": [
    "import socket, sys\n",
    "\n",
    "request = password + ' ' + \\\n",
    "' '.join([str(elem) for elem in np.append(np.append(np.array([process_index, number_of_states]), state), projector)]) \n",
    "\n",
    "host = 'ape.qotlabs.org'\n",
    "port = 2018\n",
    "\n",
    "s = socket.socket(socket.AF_INET, socket.SOCK_STREAM)\n",
    "s.settimeout(2)\n",
    "\n",
    "try:\n",
    "    s.connect((host, port))\n",
    "except:\n",
    "    print('Unable to connect')\n",
    "    sys.exit()\n",
    "    \n",
    "s.send(request.encode())\n",
    "data = s.recv(4096).decode()\n",
    "print(data)"
   ]
  }
 ],
 "metadata": {
  "kernelspec": {
   "display_name": "Python 3",
   "language": "python",
   "name": "python3"
  },
  "language_info": {
   "codemirror_mode": {
    "name": "ipython",
    "version": 3
   },
   "file_extension": ".py",
   "mimetype": "text/x-python",
   "name": "python",
   "nbconvert_exporter": "python",
   "pygments_lexer": "ipython3",
   "version": "3.6.4"
  }
 },
 "nbformat": 4,
 "nbformat_minor": 2
}
