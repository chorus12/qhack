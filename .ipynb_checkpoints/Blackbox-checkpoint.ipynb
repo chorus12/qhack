{
 "cells": [
  {
   "cell_type": "code",
   "execution_count": 1,
   "metadata": {},
   "outputs": [],
   "source": [
    "import numpy as np\n",
    "from scipy.optimize import minimize, differential_evolution"
   ]
  },
  {
   "cell_type": "code",
   "execution_count": 2,
   "metadata": {},
   "outputs": [],
   "source": [
    "# создание произвольного нормального вектора размерности 4 -> далее\n",
    "# из него через функцию generate_complex_vector можно сделать вектор размерности 2 из комплексных чисел\n",
    "def generateState():\n",
    "    s0 = np.random.random_sample() * 2 - 1\n",
    "    s1 = np.random.random_sample() * 2 - 1\n",
    "    s2 = np.random.random_sample() * 2 - 1\n",
    "    s3 = np.random.random_sample() * 2 - 1\n",
    "    state = np.array([s0, s1, s2, s3]/np.sqrt(s0 ** 2 + s1 ** 2 + s2 ** 2 + s3 ** 2))\n",
    "    return state"
   ]
  },
  {
   "cell_type": "code",
   "execution_count": 3,
   "metadata": {},
   "outputs": [
    {
     "data": {
      "text/plain": [
       "array([ 0.67236243, -0.53077643, -0.19816442,  0.47637801])"
      ]
     },
     "execution_count": 3,
     "metadata": {},
     "output_type": "execute_result"
    }
   ],
   "source": [
    "generateState()"
   ]
  },
  {
   "cell_type": "code",
   "execution_count": 4,
   "metadata": {},
   "outputs": [],
   "source": [
    "password = 'gaiphi7aan'\n",
    "\n",
    "process_index = 0\n",
    "number_of_states = 100\n",
    "\n",
    "# вещественная основа для входного вектора\n",
    "state = np.array([1, 0, 0, 0])\n",
    "\n",
    "# вещественная основа для базиса в котором проводим измерение\n",
    "projector = np.array([1, 0, 0, 0])"
   ]
  },
  {
   "cell_type": "code",
   "execution_count": 5,
   "metadata": {},
   "outputs": [],
   "source": [
    "# функция для создания комплексного вектора из вещественной основы\n",
    "def generate_complex_vector(state):\n",
    "    return( state[0]+state[1]*1j,  state[2]+state[3]*1j )"
   ]
  },
  {
   "cell_type": "code",
   "execution_count": 6,
   "metadata": {},
   "outputs": [],
   "source": [
    "# входной вектор (комплексные числа)\n",
    "alpha, beta = generate_complex_vector(state) \n",
    "\n",
    "# комплексный базис измерения\n",
    "m, n = generate_complex_vector(projector)"
   ]
  },
  {
   "cell_type": "code",
   "execution_count": 7,
   "metadata": {},
   "outputs": [],
   "source": [
    "# расчет теоритической вероятности \n",
    "def probability(a, b, phi, alpha, beta, m, n):\n",
    "    part1 = np.abs(m) ** 2 * np.abs((a * alpha + b * beta)) ** 2\n",
    "    part2 = np.conj(m) * n * (a*alpha + b*beta) * np.exp(-phi*1j) * (a*np.conj(beta) - alpha*np.conj(b))\n",
    "    part3 = m * np.conj(n) * (np.conj(a)*np.conj(alpha) + np.conj(b)*np.conj(beta)) * np.exp(phi*1j) * (np.conj(a)*beta - np.conj(b)*alpha)\n",
    "    part4 = np.abs(n) ** 2 * np.abs(np.conj(a)*beta - alpha*np.conj(b))\n",
    "    return part1 + part2 + part3 + part4"
   ]
  },
  {
   "cell_type": "code",
   "execution_count": 8,
   "metadata": {},
   "outputs": [
    {
     "ename": "SyntaxError",
     "evalue": "invalid syntax (<ipython-input-8-5905b73222ea>, line 10)",
     "output_type": "error",
     "traceback": [
      "\u001b[1;36m  File \u001b[1;32m\"<ipython-input-8-5905b73222ea>\"\u001b[1;36m, line \u001b[1;32m10\u001b[0m\n\u001b[1;33m    p0_theoretical =\u001b[0m\n\u001b[1;37m                     ^\u001b[0m\n\u001b[1;31mSyntaxError\u001b[0m\u001b[1;31m:\u001b[0m invalid syntax\n"
     ]
    }
   ],
   "source": [
    "# функция расчёта ошибки\n",
    "def loss_function(a, b , phi):\n",
    "    for result_item in result:\n",
    "        # получение величин измерения\n",
    "        state = result_item[0]\n",
    "        projector = result_item[1]\n",
    "        p0_measured = result_item[2]\n",
    "        \n",
    "        # вычисление теоритической вероятности\n",
    "        p0_theoretical = "
   ]
  },
  {
   "cell_type": "code",
   "execution_count": 11,
   "metadata": {},
   "outputs": [
    {
     "data": {
      "text/plain": [
       "(0.4037502482214075+0j)"
      ]
     },
     "execution_count": 11,
     "metadata": {},
     "output_type": "execute_result"
    }
   ],
   "source": [
    "state = generateState()\n",
    "projector = generateState()\n",
    "\n",
    "# входной вектор (комплексные числа)\n",
    "alpha, beta = generate_complex_vector(state) \n",
    "\n",
    "# комплексный базис измерения\n",
    "m, n = generate_complex_vector(projector)\n",
    "\n",
    "# Initial parameters\n",
    "a = 1+0*1j\n",
    "b = 0\n",
    "phi = 0\n",
    "\n",
    "probability(a, b, phi, alpha, beta, m, n)"
   ]
  },
  {
   "cell_type": "code",
   "execution_count": 12,
   "metadata": {},
   "outputs": [],
   "source": [
    "# функция измерения состояния\n",
    "\n",
    "def run_measurement(state, projector, process_index=3, number_of_states=100):\n",
    "    import socket, sys\n",
    "\n",
    "    #request = password + ' 1 100 0.5 0.5 0.5 0.5 1 0 0 0'\n",
    "\n",
    "    request = password + ' ' + str(process_index)+ ' ' + str(number_of_states) + ' ' + \\\n",
    "    ' '.join([str(elem) for elem in np.append(state, projector)])\n",
    "\n",
    "\n",
    "    host = 'ape.qotlabs.org'\n",
    "    port = 2018\n",
    "\n",
    "    s = socket.socket(socket.AF_INET, socket.SOCK_STREAM)\n",
    "    s.settimeout(2)\n",
    "\n",
    "    try:\n",
    "        s.connect((host, port))\n",
    "    except:\n",
    "        print('Unable to connect')\n",
    "        sys.exit()\n",
    "\n",
    "    s.send(request.encode())\n",
    "    data = s.recv(4096).decode()\n",
    "    n = [int(item) for item in data.split()]\n",
    "    return(n[0], n[1])"
   ]
  },
  {
   "cell_type": "code",
   "execution_count": 72,
   "metadata": {},
   "outputs": [
    {
     "data": {
      "text/plain": [
       "(48, 52)"
      ]
     },
     "execution_count": 72,
     "metadata": {},
     "output_type": "execute_result"
    }
   ],
   "source": [
    "run_measurement(state, projector)"
   ]
  },
  {
   "cell_type": "code",
   "execution_count": null,
   "metadata": {},
   "outputs": [],
   "source": [
    "from tqdm import tqdm"
   ]
  },
  {
   "cell_type": "code",
   "execution_count": 73,
   "metadata": {},
   "outputs": [
    {
     "name": "stdout",
     "output_type": "stream",
     "text": [
      "CPU times: user 108 ms, sys: 55.7 ms, total: 163 ms\n",
      "Wall time: 37.5 s\n"
     ]
    }
   ],
   "source": [
    "%%time\n",
    "result = []\n",
    "for i in tqdm(range(0,100)):\n",
    "    # генерируем вход. состояние\n",
    "    state = generateState()\n",
    "    projector = generateState()\n",
    "    n = run_measurement(state, projector)\n",
    "    p0 = n[0] / number_of_states\n",
    "    result.append((state, projector, p0))\n",
    "    \n",
    "    "
   ]
  },
  {
   "cell_type": "code",
   "execution_count": 83,
   "metadata": {},
   "outputs": [
    {
     "data": {
      "text/plain": [
       "(array([ 0.76864003, -0.35390594, -0.52754922, -0.075066  ]),\n",
       " array([-0.54930157,  0.38435067, -0.05754459,  0.73975061]),\n",
       " 0.46)"
      ]
     },
     "execution_count": 83,
     "metadata": {},
     "output_type": "execute_result"
    }
   ],
   "source": [
    "result[0][0], result[0][1], result[0][2]"
   ]
  },
  {
   "cell_type": "code",
   "execution_count": null,
   "metadata": {},
   "outputs": [],
   "source": []
  }
 ],
 "metadata": {
  "kernelspec": {
   "display_name": "Python 3",
   "language": "python",
   "name": "python3"
  },
  "language_info": {
   "codemirror_mode": {
    "name": "ipython",
    "version": 3
   },
   "file_extension": ".py",
   "mimetype": "text/x-python",
   "name": "python",
   "nbconvert_exporter": "python",
   "pygments_lexer": "ipython3",
   "version": "3.6.4"
  }
 },
 "nbformat": 4,
 "nbformat_minor": 2
}
