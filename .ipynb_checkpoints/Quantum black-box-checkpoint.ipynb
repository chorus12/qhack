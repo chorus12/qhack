{
 "cells": [
  {
   "cell_type": "markdown",
   "metadata": {},
   "source": [
    "# Решение задачи №1 - Квантовый черный ящик - восстановление параметров квантового преобразования"
   ]
  },
  {
   "cell_type": "markdown",
   "metadata": {},
   "source": [
    "**Решение команды №5:**   \n",
    "Дмитрий Норкин,  \n",
    "Екатерина Сажина,   \n",
    "Сергей Бажин,  \n",
    "Татьяна и Мария "
   ]
  },
  {
   "cell_type": "code",
   "execution_count": 1,
   "metadata": {},
   "outputs": [],
   "source": [
    "import numpy as np\n",
    "from scipy.optimize import minimize\n",
    "import json\n",
    "# библиотека для рисования прогресс-бара\n",
    "from tqdm import tqdm\n",
    "import pickle"
   ]
  },
  {
   "cell_type": "code",
   "execution_count": 2,
   "metadata": {},
   "outputs": [
    {
     "data": {
      "text/plain": [
       "array([-0.64560285,  0.01306729,  0.51668358, -0.56219595])"
      ]
     },
     "execution_count": 2,
     "metadata": {},
     "output_type": "execute_result"
    }
   ],
   "source": [
    "# создание произвольного нормального вектора размерности 4 -> далее\n",
    "# из него через функцию generate_complex_vector получается вектор размерности 2 из комплексных чисел\n",
    "def generateState():\n",
    "    s0 = np.random.random_sample() * 2 - 1\n",
    "    s1 = np.random.random_sample() * 2 - 1\n",
    "    s2 = np.random.random_sample() * 2 - 1\n",
    "    s3 = np.random.random_sample() * 2 - 1\n",
    "    state = np.array([s0, s1, s2, s3]/np.sqrt(s0 ** 2 + s1 ** 2 + s2 ** 2 + s3 ** 2))\n",
    "    return state\n",
    "\n",
    "# функция для создания комплексного вектора из вещественной основы\n",
    "def generate_complex_vector(state):\n",
    "    return( state[0]+state[1]*1j,  state[2]+state[3]*1j )\n",
    "\n",
    "generateState()"
   ]
  },
  {
   "cell_type": "code",
   "execution_count": 3,
   "metadata": {},
   "outputs": [],
   "source": [
    "# расчет теоритической вероятности на основе \n",
    "# пара комплексных чисел alpha , beta - входной вектор\n",
    "# пара комплексных чисел m, n - базис измерения выходного состояния\n",
    "# a, b, phi - параметры унитарной матрицы преобразования которую необходимо найти\n",
    "# a, b - комплексные, phi - вещественное\n",
    "def probability(a, b, phi, alpha, beta, m, n):\n",
    "    part1 = np.abs(m) ** 2 * np.abs((a * alpha + b * beta)) ** 2\n",
    "    part2 = np.conj(m) * n * (a*alpha + b*beta) * np.exp(-phi*1j) * (a*np.conj(beta) - alpha*np.conj(b))\n",
    "    part3 = m * np.conj(n) * (np.conj(a)*np.conj(alpha) + np.conj(b)*np.conj(beta)) * np.exp(phi*1j) * (np.conj(a)*beta - np.conj(b)*alpha)\n",
    "    part4 = np.abs(n) ** 2 * np.abs(np.conj(a)*beta - alpha*np.conj(b))\n",
    "    return part1 + part2 + part3 + part4"
   ]
  },
  {
   "cell_type": "code",
   "execution_count": 12,
   "metadata": {},
   "outputs": [],
   "source": [
    "# читаем пароль из файла формата {\"password\":\"значение пароля\"}\n",
    "with open('password.json', 'r') as file:\n",
    "    secret = json.load(file)\n",
    "password = secret['password']"
   ]
  },
  {
   "cell_type": "markdown",
   "metadata": {},
   "source": [
    "###  Задаём начальне параметры алгоритма"
   ]
  },
  {
   "cell_type": "code",
   "execution_count": 6,
   "metadata": {},
   "outputs": [],
   "source": [
    "# индекс преобразования - целое число от 0 до 5, \n",
    "# 0-2 - тренировочные, \n",
    "# 3-5 - боевые на зачёт\n",
    "process_index = 0\n",
    "\n",
    "# число измерений итогового состояния\n",
    "number_of_states = 100\n",
    "\n",
    "# число входных кубитов (входных векторов для черного ящика)\n",
    "NUMBER_OF_INPUT_STATES = 100"
   ]
  },
  {
   "cell_type": "code",
   "execution_count": 7,
   "metadata": {},
   "outputs": [],
   "source": [
    "# функция расчёта отклонения теоритической вероятности (расчитанной через функцию probability) от \n",
    "# экспериментальной (измерена через обращение к функции run_measurement)\n",
    "def loss_function(params, result):\n",
    "    ar, ai, br , bi, phi = params\n",
    "    N = len(result)\n",
    "    mnk = 0\n",
    "    for result_item in result:\n",
    "        # получение величин измерения\n",
    "        state = result_item[0]\n",
    "        projector = result_item[1]\n",
    "        p0_measured = result_item[2]\n",
    "        \n",
    "        # вычисление теоритической вероятности\n",
    "        alpha, beta = generate_complex_vector(state) \n",
    "        m, n = generate_complex_vector(projector)\n",
    "        a = ar + ai*1j\n",
    "        b = br + bi*1j\n",
    "        p0_theoretical = probability(a, b, phi, alpha, beta, m, n)\n",
    "        mnk += pow((p0_theoretical - p0_measured),2)\n",
    "    mnk = mnk/N\n",
    "    return(mnk)"
   ]
  },
  {
   "cell_type": "markdown",
   "metadata": {},
   "source": [
    "### отладочный вывод - проверим, что все функции реализованы корректно"
   ]
  },
  {
   "cell_type": "code",
   "execution_count": 8,
   "metadata": {},
   "outputs": [
    {
     "data": {
      "text/plain": [
       "(1.5995745571535913-0.337225644749446j)"
      ]
     },
     "execution_count": 8,
     "metadata": {},
     "output_type": "execute_result"
    }
   ],
   "source": [
    "# вещественная основа для входного вектора\n",
    "state = generateState()\n",
    "# вещественная основа для базиса в котором проводим измерение\n",
    "projector = generateState()\n",
    "\n",
    "# входной вектор (комплексные числа)\n",
    "alpha, beta = generate_complex_vector(state) \n",
    "\n",
    "# комплексный базис измерения\n",
    "m, n = generate_complex_vector(projector)\n",
    "\n",
    "# Initial parameters\n",
    "a = 1+1*1j\n",
    "b = 0+1*1j\n",
    "phi = 0\n",
    "\n",
    "probability(a, b, phi, alpha, beta, m, n)"
   ]
  },
  {
   "cell_type": "code",
   "execution_count": 13,
   "metadata": {},
   "outputs": [],
   "source": [
    "# функция измерения состояния\n",
    "def run_measurement(state, projector, process_index=0, number_of_states=100):\n",
    "    \"\"\"\n",
    "    выполняет измерение состояния выходного кубита и возвращает пару чисел n0 и n1, где n0+n1 = number_of_states\n",
    "    \n",
    "    state - матрица из 4 чисел, представляющая собой вектор из комплексных элементов, входное состояние \n",
    "    преобразования\n",
    "    \n",
    "    projector - матрица из 4 чисел, представляющая собой вектор из комплексных элементов, базис измерения выходного\n",
    "    состояния\n",
    "    \n",
    "    process_index - код преобразования для которого измеряется выходной вектор\n",
    "    целое число от 0 до 5\n",
    "    0-2 - тренировочные, \n",
    "    3-5 - боевые на зачёт\n",
    "    number_of_states - число измеренных состояний выходного вектора\n",
    "    \"\"\"\n",
    "    import socket, sys\n",
    "\n",
    "    #request = password + ' 1 100 0.5 0.5 0.5 0.5 1 0 0 0'\n",
    "\n",
    "    request = password + ' ' + str(process_index)+ ' ' + str(number_of_states) + ' ' + \\\n",
    "    ' '.join([str(elem) for elem in np.append(state, projector)])\n",
    "\n",
    "\n",
    "    host = 'ape.qotlabs.org'\n",
    "    port = 2018\n",
    "\n",
    "    s = socket.socket(socket.AF_INET, socket.SOCK_STREAM)\n",
    "    s.settimeout(2)\n",
    "\n",
    "    try:\n",
    "        s.connect((host, port))\n",
    "    except:\n",
    "        print('Unable to connect')\n",
    "        sys.exit()\n",
    "\n",
    "    s.send(request.encode())\n",
    "    data = s.recv(4096).decode()\n",
    "    n = [int(item) for item in data.split()]\n",
    "    return(n[0], n[1])"
   ]
  },
  {
   "cell_type": "code",
   "execution_count": 18,
   "metadata": {},
   "outputs": [
    {
     "data": {
      "text/plain": [
       "(86, 14)"
      ]
     },
     "execution_count": 18,
     "metadata": {},
     "output_type": "execute_result"
    }
   ],
   "source": [
    "run_measurement(state, projector)"
   ]
  },
  {
   "cell_type": "code",
   "execution_count": 19,
   "metadata": {},
   "outputs": [],
   "source": [
    "def perform_complete_measurement(process_index = 0, number_of_input_states = NUMBER_OF_INPUT_STATES):\n",
    "    \n",
    "    # список с итоговыми измерениями вероятности и входными данными\n",
    "    result = []\n",
    "    for i in tqdm(range(0,number_of_input_states)):\n",
    "        # генерируем вход. состояние\n",
    "        state = generateState()\n",
    "        projector = generateState()\n",
    "        n = run_measurement(state, projector)\n",
    "        p0 = n[0] / number_of_states\n",
    "        result.append((state, projector, p0))\n",
    "    return (result)"
   ]
  },
  {
   "cell_type": "code",
   "execution_count": 20,
   "metadata": {},
   "outputs": [
    {
     "name": "stderr",
     "output_type": "stream",
     "text": [
      "100%|████████████████████████████████████████████████████████████████████████████████| 100/100 [00:08<00:00, 12.37it/s]\n"
     ]
    },
    {
     "name": "stdout",
     "output_type": "stream",
     "text": [
      "Wall time: 8.1 s\n"
     ]
    }
   ],
   "source": [
    "%%time\n",
    "# получаем результат измерений для нулевого преобразования\n",
    "result0 = perform_complete_measurement(process_index = 0)   "
   ]
  },
  {
   "cell_type": "code",
   "execution_count": 21,
   "metadata": {},
   "outputs": [
    {
     "name": "stderr",
     "output_type": "stream",
     "text": [
      "100%|████████████████████████████████████████████████████████████████████████████████| 100/100 [00:08<00:00, 11.79it/s]\n"
     ]
    },
    {
     "name": "stdout",
     "output_type": "stream",
     "text": [
      "Wall time: 8.49 s\n"
     ]
    }
   ],
   "source": [
    "%%time\n",
    "# получаем результат измерений для нулевого преобразования\n",
    "result1 = perform_complete_measurement(process_index = 1)   "
   ]
  },
  {
   "cell_type": "code",
   "execution_count": 22,
   "metadata": {},
   "outputs": [
    {
     "name": "stderr",
     "output_type": "stream",
     "text": [
      "100%|████████████████████████████████████████████████████████████████████████████████| 100/100 [00:08<00:00, 12.44it/s]\n"
     ]
    },
    {
     "name": "stdout",
     "output_type": "stream",
     "text": [
      "Wall time: 8.06 s\n"
     ]
    }
   ],
   "source": [
    "%%time\n",
    "# получаем результат измерений для нулевого преобразования\n",
    "result2 = perform_complete_measurement(process_index = 2)   "
   ]
  },
  {
   "cell_type": "code",
   "execution_count": 23,
   "metadata": {},
   "outputs": [
    {
     "data": {
      "text/plain": [
       "(array([-0.40372591, -0.88991974, -0.06644686,  0.20157642]),\n",
       " array([ 0.50373763, -0.17753741,  0.22584638, -0.81469153]),\n",
       " 0.35)"
      ]
     },
     "execution_count": 23,
     "metadata": {},
     "output_type": "execute_result"
    }
   ],
   "source": [
    "result0[0][0], result0[0][1], result0[0][2]"
   ]
  },
  {
   "cell_type": "code",
   "execution_count": 100,
   "metadata": {},
   "outputs": [],
   "source": [
    "# Аппроксимация унитарной матрицей\n",
    "\n",
    "def toUnitary(matrix):\n",
    "    product = np.vdot(matrix[1], matrix[0])\n",
    "    norm1 = np.sqrt(np.abs(np.vdot(matrix[0], matrix[0])))\n",
    "    norm2 = np.sqrt(np.abs(np.vdot(matrix[1], matrix[1])))\n",
    "    \n",
    "    # Нормировка первой строки\n",
    "    matrix[0] = matrix[0] / norm1\n",
    "    # Ортогонализация\n",
    "    projection2_to_1 = matrix[0] * product\n",
    "    matrix[1] -= projection2_to_1\n",
    "    # Нормировка второй строки\n",
    "    matrix[1] = matrix[1] / norm2\n",
    "    return matrix"
   ]
  },
  {
   "cell_type": "code",
   "execution_count": 101,
   "metadata": {},
   "outputs": [],
   "source": [
    "def checkForUnitarity(matrix):\n",
    "    norm1 = np.sqrt(np.abs(np.vdot(matrix[0], matrix[0])))\n",
    "    norm2 = np.sqrt(np.abs(np.vdot(matrix[1], matrix[1])))\n",
    "    product = np.vdot(matrix[0], matrix[1])\n",
    "    tol = 1e-7\n",
    "    if np.abs(norm1 - 1) < tol and np.abs(norm2 - 1) < tol and np.abs(product) < tol:\n",
    "        return True\n",
    "    else:\n",
    "        return False"
   ]
  },
  {
   "cell_type": "markdown",
   "metadata": {},
   "source": [
    "###  Находим параметры преобразования через оптимизацию функции потерь"
   ]
  },
  {
   "cell_type": "code",
   "execution_count": 24,
   "metadata": {},
   "outputs": [
    {
     "name": "stderr",
     "output_type": "stream",
     "text": [
      "C:\\Users\\cosin\\AppData\\Local\\Continuum\\anaconda3\\lib\\site-packages\\scipy\\optimize\\optimize.py:643: ComplexWarning: Casting complex values to real discards the imaginary part\n",
      "  grad[k] = (f(*((xk + d,) + args)) - f0) / d[k]\n",
      "C:\\Users\\cosin\\AppData\\Local\\Continuum\\anaconda3\\lib\\site-packages\\scipy\\optimize\\lbfgsb.py:328: ComplexWarning: Casting complex values to real discards the imaginary part\n",
      "  isave, dsave, maxls)\n"
     ]
    },
    {
     "data": {
      "text/plain": [
       "      fun: (0.007752996394918176-0.00038057464284552264j)\n",
       " hess_inv: <5x5 LbfgsInvHessProduct with dtype=float64>\n",
       "      jac: array([-2.27871541e-05,  1.56217921e-05,  6.10908893e-06,  1.12672024e-05,\n",
       "        1.94309846e-05])\n",
       "  message: b'CONVERGENCE: REL_REDUCTION_OF_F_<=_FACTR*EPSMCH'\n",
       "     nfev: 90\n",
       "      nit: 12\n",
       "   status: 0\n",
       "  success: True\n",
       "        x: array([ 0.79699849,  0.45755251, -0.04384512,  0.05241188,  1.03995462])"
      ]
     },
     "execution_count": 24,
     "metadata": {},
     "output_type": "execute_result"
    }
   ],
   "source": [
    "# начальная точка\n",
    "x0 = [0.5, 0.5, 0.5, 0.5, 1]\n",
    "# доп. параметры для функции потерь - наши данные о входном векторе, базисе измерения и измеренной вероятности\n",
    "args = (result0)\n",
    "optimization_result = minimize(loss_function, x0, args=args, method='L-BFGS-B')\n",
    "optimization_result"
   ]
  },
  {
   "cell_type": "code",
   "execution_count": 25,
   "metadata": {},
   "outputs": [],
   "source": [
    "# получение итоговой матрицы преобразования\n",
    "def get_black_box_matrix(optimization_result):\n",
    "    a = optimization_result.x[0] + optimization_result.x[1]*1j\n",
    "    b = optimization_result.x[2] + optimization_result.x[3]*1j\n",
    "    phi = optimization_result.x[4]\n",
    "    \n",
    "    black_box = np.array([[a , b],\n",
    "                          [-np.exp(1j*phi)*np.conj(b), np.exp(1j*phi)*np.conj(a)]])\n",
    "    \n",
    "    return(black_box)"
   ]
  },
  {
   "cell_type": "markdown",
   "metadata": {},
   "source": [
    "###  Это итоговые данные по оптимизации преобразвания 0"
   ]
  },
  {
   "cell_type": "code",
   "execution_count": 26,
   "metadata": {},
   "outputs": [
    {
     "data": {
      "text/plain": [
       "[0.7969985, 0.4575525, -0.0438451, 0.0524119, 1.0399546]"
      ]
     },
     "execution_count": 26,
     "metadata": {},
     "output_type": "execute_result"
    }
   ],
   "source": [
    "[round(item, 7) for item in optimization_result.x]"
   ]
  },
  {
   "cell_type": "code",
   "execution_count": 27,
   "metadata": {},
   "outputs": [
    {
     "data": {
      "text/plain": [
       "((0.7969984945382018+0.4575525126889519j),\n",
       " (-0.04384511585154384+0.052411884885463944j),\n",
       " 1.0399546193200517)"
      ]
     },
     "execution_count": 27,
     "metadata": {},
     "output_type": "execute_result"
    }
   ],
   "source": [
    "a = optimization_result.x[0] + optimization_result.x[1]*1j\n",
    "b = optimization_result.x[2] + optimization_result.x[3]*1j\n",
    "phi = optimization_result.x[4]\n",
    "a, b, phi"
   ]
  },
  {
   "cell_type": "markdown",
   "metadata": {},
   "source": [
    "### Получение ответов на боевых данных\n",
    "Поскольку на боевых данных ответ можно получить только 1 раз - они сохранены в файлы dump3,4,5"
   ]
  },
  {
   "cell_type": "markdown",
   "metadata": {},
   "source": [
    "###  5-ый ящик"
   ]
  },
  {
   "cell_type": "code",
   "execution_count": 52,
   "metadata": {},
   "outputs": [],
   "source": [
    "# загружаем данные\n",
    "with open('dump5.pkl','rb') as file:\n",
    "    result5 = pickle.load(file)"
   ]
  },
  {
   "cell_type": "code",
   "execution_count": 53,
   "metadata": {},
   "outputs": [
    {
     "name": "stderr",
     "output_type": "stream",
     "text": [
      "C:\\Users\\cosin\\AppData\\Local\\Continuum\\anaconda3\\lib\\site-packages\\scipy\\optimize\\optimize.py:643: ComplexWarning: Casting complex values to real discards the imaginary part\n",
      "  grad[k] = (f(*((xk + d,) + args)) - f0) / d[k]\n",
      "C:\\Users\\cosin\\AppData\\Local\\Continuum\\anaconda3\\lib\\site-packages\\scipy\\optimize\\lbfgsb.py:328: ComplexWarning: Casting complex values to real discards the imaginary part\n",
      "  isave, dsave, maxls)\n"
     ]
    },
    {
     "data": {
      "text/plain": [
       "      fun: (0.00034432662937762564-0.0017071343063492488j)\n",
       " hess_inv: <5x5 LbfgsInvHessProduct with dtype=float64>\n",
       "      jac: array([-1.22964247e-06,  1.39462010e-06, -8.97334507e-07, -8.97936239e-08,\n",
       "       -6.28262633e-07])\n",
       "  message: b'CONVERGENCE: NORM_OF_PROJECTED_GRADIENT_<=_PGTOL'\n",
       "     nfev: 234\n",
       "      nit: 32\n",
       "   status: 0\n",
       "  success: True\n",
       "        x: array([ 0.51008823, -0.42767789,  0.46589494,  0.50171187,  2.33126407])"
      ]
     },
     "execution_count": 53,
     "metadata": {},
     "output_type": "execute_result"
    }
   ],
   "source": [
    "x0 = [0.1, 0.3, 0.4, 0.2, 1]\n",
    "args = (result5)\n",
    "optimization_result = minimize(loss_function, x0, args=args, method='L-BFGS-B')\n",
    "optimization_result"
   ]
  },
  {
   "cell_type": "code",
   "execution_count": 103,
   "metadata": {},
   "outputs": [
    {
     "data": {
      "text/plain": [
       "array([[ 0.51008823-0.42767789j,  0.46589494+0.50171187j],\n",
       "       [-0.04237419-0.68335739j, -0.66144211+0.07478447j]])"
      ]
     },
     "execution_count": 103,
     "metadata": {},
     "output_type": "execute_result"
    }
   ],
   "source": [
    "matrix5 = get_black_box_matrix(optimization_result)\n",
    "matrix5"
   ]
  },
  {
   "cell_type": "code",
   "execution_count": 104,
   "metadata": {},
   "outputs": [
    {
     "data": {
      "text/plain": [
       "array([[ 0.53416882-0.447868  j,  0.48788922+0.52539702j],\n",
       "       [-0.04437462-0.71561779j, -0.69266792+0.07831495j]])"
      ]
     },
     "execution_count": 104,
     "metadata": {},
     "output_type": "execute_result"
    }
   ],
   "source": [
    "toUnitary(matrix5)"
   ]
  },
  {
   "cell_type": "markdown",
   "metadata": {},
   "source": [
    "###  Для 4-ого черного ящика"
   ]
  },
  {
   "cell_type": "code",
   "execution_count": 110,
   "metadata": {},
   "outputs": [],
   "source": [
    "# загружаем данные\n",
    "with open('dump4.pkl','rb') as file:\n",
    "    result4 = pickle.load(file)"
   ]
  },
  {
   "cell_type": "code",
   "execution_count": 111,
   "metadata": {},
   "outputs": [
    {
     "name": "stderr",
     "output_type": "stream",
     "text": [
      "C:\\Users\\cosin\\AppData\\Local\\Continuum\\anaconda3\\lib\\site-packages\\scipy\\optimize\\optimize.py:643: ComplexWarning: Casting complex values to real discards the imaginary part\n",
      "  grad[k] = (f(*((xk + d,) + args)) - f0) / d[k]\n",
      "C:\\Users\\cosin\\AppData\\Local\\Continuum\\anaconda3\\lib\\site-packages\\scipy\\optimize\\lbfgsb.py:328: ComplexWarning: Casting complex values to real discards the imaginary part\n",
      "  isave, dsave, maxls)\n"
     ]
    },
    {
     "data": {
      "text/plain": [
       "      fun: (-0.017831400523742224+0.015167070656927534j)\n",
       " hess_inv: <5x5 LbfgsInvHessProduct with dtype=float64>\n",
       "      jac: array([ 5.26315103e-06,  1.22124533e-07, -2.88657986e-07, -1.41553436e-06,\n",
       "        6.56072419e-07])\n",
       "  message: b'CONVERGENCE: NORM_OF_PROJECTED_GRADIENT_<=_PGTOL'\n",
       "     nfev: 108\n",
       "      nit: 15\n",
       "   status: 0\n",
       "  success: True\n",
       "        x: array([ 0.21289381,  0.05285395,  1.00178534, -0.37329923,  0.21361999])"
      ]
     },
     "execution_count": 111,
     "metadata": {},
     "output_type": "execute_result"
    }
   ],
   "source": [
    "x0 = [0.1, 0.3, 0.4, 0.2, 1]\n",
    "args = (result4)\n",
    "optimization_result = minimize(loss_function, x0, args=args, method='L-BFGS-B')\n",
    "optimization_result"
   ]
  },
  {
   "cell_type": "code",
   "execution_count": 112,
   "metadata": {},
   "outputs": [
    {
     "data": {
      "text/plain": [
       "array([[ 0.21289381+0.05285395j,  1.00178534-0.37329923j],\n",
       "       [-0.89987559-0.57719158j,  0.2192597 -0.0065193 j]])"
      ]
     },
     "execution_count": 112,
     "metadata": {},
     "output_type": "execute_result"
    }
   ],
   "source": [
    "matrix4 = get_black_box_matrix(optimization_result)\n",
    "matrix4"
   ]
  },
  {
   "cell_type": "code",
   "execution_count": 113,
   "metadata": {},
   "outputs": [
    {
     "data": {
      "text/plain": [
       "array([[ 0.19507393+0.04842991j,  0.91793274-0.34205291j],\n",
       "       [-0.82455315-0.52887882j,  0.20090697-0.00597362j]])"
      ]
     },
     "execution_count": 113,
     "metadata": {},
     "output_type": "execute_result"
    }
   ],
   "source": [
    "toUnitary(matrix4)"
   ]
  },
  {
   "cell_type": "code",
   "execution_count": 109,
   "metadata": {},
   "outputs": [
    {
     "data": {
      "text/plain": [
       "True"
      ]
     },
     "execution_count": 109,
     "metadata": {},
     "output_type": "execute_result"
    }
   ],
   "source": [
    "checkForUnitarity(matrix4)"
   ]
  },
  {
   "cell_type": "markdown",
   "metadata": {},
   "source": [
    "###  Для 3-его черного ящика"
   ]
  },
  {
   "cell_type": "code",
   "execution_count": 114,
   "metadata": {},
   "outputs": [],
   "source": [
    "# загружаем данные\n",
    "with open('dump3.pkl','rb') as file:\n",
    "    result3 = pickle.load(file)"
   ]
  },
  {
   "cell_type": "code",
   "execution_count": 115,
   "metadata": {},
   "outputs": [
    {
     "name": "stderr",
     "output_type": "stream",
     "text": [
      "C:\\Users\\cosin\\AppData\\Local\\Continuum\\anaconda3\\lib\\site-packages\\scipy\\optimize\\optimize.py:643: ComplexWarning: Casting complex values to real discards the imaginary part\n",
      "  grad[k] = (f(*((xk + d,) + args)) - f0) / d[k]\n",
      "C:\\Users\\cosin\\AppData\\Local\\Continuum\\anaconda3\\lib\\site-packages\\scipy\\optimize\\lbfgsb.py:328: ComplexWarning: Casting complex values to real discards the imaginary part\n",
      "  isave, dsave, maxls)\n"
     ]
    },
    {
     "data": {
      "text/plain": [
       "      fun: (0.004131297049814652+0.0009906591395576344j)\n",
       " hess_inv: <5x5 LbfgsInvHessProduct with dtype=float64>\n",
       "      jac: array([-6.30441879e-06,  6.44406403e-06, -6.56722940e-06,  6.67434857e-07,\n",
       "        3.56398938e-07])\n",
       "  message: b'CONVERGENCE: NORM_OF_PROJECTED_GRADIENT_<=_PGTOL'\n",
       "     nfev: 132\n",
       "      nit: 19\n",
       "   status: 0\n",
       "  success: True\n",
       "        x: array([-0.68218174,  0.50257605,  0.32452351,  0.3180893 ,  1.42782479])"
      ]
     },
     "execution_count": 115,
     "metadata": {},
     "output_type": "execute_result"
    }
   ],
   "source": [
    "x0 = [0.1, 0.3, 0.4, 0.2, 1]\n",
    "args = (result3)\n",
    "optimization_result = minimize(loss_function, x0, args=args, method='L-BFGS-B')\n",
    "optimization_result"
   ]
  },
  {
   "cell_type": "code",
   "execution_count": 117,
   "metadata": {},
   "outputs": [
    {
     "data": {
      "text/plain": [
       "array([[-0.68218174+0.50257605j,  0.32452351+0.3180893 j],\n",
       "       [-0.36108354-0.27588944j,  0.40024762-0.74683094j]])"
      ]
     },
     "execution_count": 117,
     "metadata": {},
     "output_type": "execute_result"
    }
   ],
   "source": [
    "matrix3 = get_black_box_matrix(optimization_result)\n",
    "matrix3"
   ]
  },
  {
   "cell_type": "code",
   "execution_count": 118,
   "metadata": {},
   "outputs": [
    {
     "data": {
      "text/plain": [
       "array([[-0.70950941+0.52270886j,  0.33752367+0.33083171j],\n",
       "       [-0.37554827-0.28694136j,  0.41628122-0.77674841j]])"
      ]
     },
     "execution_count": 118,
     "metadata": {},
     "output_type": "execute_result"
    }
   ],
   "source": [
    "toUnitary(matrix3)"
   ]
  },
  {
   "cell_type": "code",
   "execution_count": 119,
   "metadata": {},
   "outputs": [
    {
     "data": {
      "text/plain": [
       "True"
      ]
     },
     "execution_count": 119,
     "metadata": {},
     "output_type": "execute_result"
    }
   ],
   "source": [
    "checkForUnitarity(matrix3)"
   ]
  }
 ],
 "metadata": {
  "kernelspec": {
   "display_name": "Python 3",
   "language": "python",
   "name": "python3"
  },
  "language_info": {
   "codemirror_mode": {
    "name": "ipython",
    "version": 3
   },
   "file_extension": ".py",
   "mimetype": "text/x-python",
   "name": "python",
   "nbconvert_exporter": "python",
   "pygments_lexer": "ipython3",
   "version": "3.6.4"
  }
 },
 "nbformat": 4,
 "nbformat_minor": 2
}
