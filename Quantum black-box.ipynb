{
 "cells": [
  {
   "cell_type": "code",
   "execution_count": 76,
   "metadata": {},
   "outputs": [],
   "source": [
    "import numpy as np\n",
    "from scipy.optimize import minimize, differential_evolution"
   ]
  },
  {
   "cell_type": "code",
   "execution_count": 58,
   "metadata": {},
   "outputs": [],
   "source": [
    "# создание произвольного нормального вектора размерности 4 -> далее\n",
    "# из него через функцию generate_complex_vector можно сделать вектор размерности 2 из комплексных чисел\n",
    "def generateState():\n",
    "    s0 = np.random.random_sample() * 2 - 1\n",
    "    s1 = np.random.random_sample() * 2 - 1\n",
    "    s2 = np.random.random_sample() * 2 - 1\n",
    "    s3 = np.random.random_sample() * 2 - 1\n",
    "    state = np.array([s0, s1, s2, s3]/np.sqrt(s0 ** 2 + s1 ** 2 + s2 ** 2 + s3 ** 2))\n",
    "    return state"
   ]
  },
  {
   "cell_type": "code",
   "execution_count": 59,
   "metadata": {},
   "outputs": [
    {
     "data": {
      "text/plain": [
       "array([ 0.48825859, -0.41595997, -0.65200517, -0.40431437])"
      ]
     },
     "execution_count": 59,
     "metadata": {},
     "output_type": "execute_result"
    }
   ],
   "source": [
    "generateState()"
   ]
  },
  {
   "cell_type": "code",
   "execution_count": 5,
   "metadata": {},
   "outputs": [],
   "source": [
    "password = 'gaiphi7aan'\n",
    "\n",
    "process_index = 0\n",
    "number_of_states = 100\n",
    "\n",
    "# вещественная основа для входного вектора\n",
    "state = np.array([1, 0, 0, 0])\n",
    "\n",
    "# вещественная основа для базиса в котором проводим измерение\n",
    "projector = np.array([1, 0, 0, 0])"
   ]
  },
  {
   "cell_type": "code",
   "execution_count": 15,
   "metadata": {},
   "outputs": [],
   "source": [
    "# функция для создания комплексного вектора из вещественной основы\n",
    "def generate_complex_vector(state):\n",
    "    return( state[0]+state[1]*1j,  state[2]+state[3]*1j )"
   ]
  },
  {
   "cell_type": "code",
   "execution_count": 18,
   "metadata": {},
   "outputs": [],
   "source": [
    "# входной вектор (комплексные числа)\n",
    "alpha, beta = generate_complex_vector(state) \n",
    "\n",
    "# комплексный базис измерения\n",
    "m, n = generate_complex_vector(projector)"
   ]
  },
  {
   "cell_type": "code",
   "execution_count": 92,
   "metadata": {},
   "outputs": [],
   "source": [
    "# расчет теоритической вероятности \n",
    "def probability(a, b, phi, alpha, beta, m, n):\n",
    "    part1 = np.abs(m) ** 2 * np.abs((a * alpha + b * beta)) ** 2\n",
    "    part2 = np.conj(m) * n * (a*alpha + b*beta) * np.exp(-phi*1j) * (a*np.conj(beta) - alpha*np.conj(b))\n",
    "    part3 = m * np.conj(n) * (np.conj(a)*np.conj(alpha) + np.conj(b)*np.conj(beta)) * np.exp(phi*1j) * (np.conj(a)*beta - np.conj(b)*alpha)\n",
    "    part4 = np.abs(n) ** 2 * np.abs(np.conj(a)*beta - alpha*np.conj(b))\n",
    "    return part1 + part2 + part3 + part4"
   ]
  },
  {
   "cell_type": "code",
   "execution_count": 95,
   "metadata": {},
   "outputs": [],
   "source": [
    "# функция расчёта ошибки\n",
    "def loss_function(params):\n",
    "    ar, ai, br , bi, phi = params\n",
    "    N = len(result)\n",
    "    mnk = 0\n",
    "    for result_item in result:\n",
    "        # получение величин измерения\n",
    "        state = result_item[0]\n",
    "        projector = result_item[1]\n",
    "        p0_measured = result_item[2]\n",
    "        \n",
    "        # вычисление теоритической вероятности\n",
    "        alpha, beta = generate_complex_vector(state) \n",
    "        m, n = generate_complex_vector(projector)\n",
    "        a = ar + ai*1j\n",
    "        b = br + bi*1j\n",
    "        p0_theoretical = probability(a, b, phi, alpha, beta, m, n)\n",
    "        mnk += pow((p0_theoretical - p0_measured),2)\n",
    "    mnk = mnk/N\n",
    "    return(mnk)"
   ]
  },
  {
   "cell_type": "code",
   "execution_count": 82,
   "metadata": {},
   "outputs": [
    {
     "data": {
      "text/plain": [
       "(0.42982244976568035-0.17347998234841602j)"
      ]
     },
     "execution_count": 82,
     "metadata": {},
     "output_type": "execute_result"
    }
   ],
   "source": [
    "state = generateState()\n",
    "projector = generateState()\n",
    "\n",
    "# входной вектор (комплексные числа)\n",
    "alpha, beta = generate_complex_vector(state) \n",
    "\n",
    "# комплексный базис измерения\n",
    "m, n = generate_complex_vector(projector)\n",
    "\n",
    "# Initial parameters\n",
    "a = 1+1*1j\n",
    "b = 0+1*1j\n",
    "phi = 0\n",
    "\n",
    "probability(a, b, phi, alpha, beta, m, n)"
   ]
  },
  {
   "cell_type": "code",
   "execution_count": 67,
   "metadata": {},
   "outputs": [],
   "source": [
    "# функция измерения состояния\n",
    "\n",
    "def run_measurement(state, projector, process_index=0, number_of_states=100):\n",
    "    import socket, sys\n",
    "\n",
    "    #request = password + ' 1 100 0.5 0.5 0.5 0.5 1 0 0 0'\n",
    "\n",
    "    request = password + ' ' + str(process_index)+ ' ' + str(number_of_states) + ' ' + \\\n",
    "    ' '.join([str(elem) for elem in np.append(state, projector)])\n",
    "\n",
    "\n",
    "    host = 'ape.qotlabs.org'\n",
    "    port = 2018\n",
    "\n",
    "    s = socket.socket(socket.AF_INET, socket.SOCK_STREAM)\n",
    "    s.settimeout(2)\n",
    "\n",
    "    try:\n",
    "        s.connect((host, port))\n",
    "    except:\n",
    "        print('Unable to connect')\n",
    "        sys.exit()\n",
    "\n",
    "    s.send(request.encode())\n",
    "    data = s.recv(4096).decode()\n",
    "    n = [int(item) for item in data.split()]\n",
    "    return(n[0], n[1])"
   ]
  },
  {
   "cell_type": "code",
   "execution_count": 72,
   "metadata": {},
   "outputs": [
    {
     "data": {
      "text/plain": [
       "(48, 52)"
      ]
     },
     "execution_count": 72,
     "metadata": {},
     "output_type": "execute_result"
    }
   ],
   "source": [
    "run_measurement(state, projector)"
   ]
  },
  {
   "cell_type": "code",
   "execution_count": null,
   "metadata": {},
   "outputs": [],
   "source": [
    "from tqdm import tqdm"
   ]
  },
  {
   "cell_type": "code",
   "execution_count": 73,
   "metadata": {},
   "outputs": [
    {
     "name": "stdout",
     "output_type": "stream",
     "text": [
      "CPU times: user 108 ms, sys: 55.7 ms, total: 163 ms\n",
      "Wall time: 37.5 s\n"
     ]
    }
   ],
   "source": [
    "%%time\n",
    "result = []\n",
    "for i in tqdm(range(0,100)):\n",
    "    # генерируем вход. состояние\n",
    "    state = generateState()\n",
    "    projector = generateState()\n",
    "    n = run_measurement(state, projector)\n",
    "    p0 = n[0] / number_of_states\n",
    "    result.append((state, projector, p0))\n",
    "    \n",
    "    "
   ]
  },
  {
   "cell_type": "code",
   "execution_count": 83,
   "metadata": {},
   "outputs": [
    {
     "data": {
      "text/plain": [
       "(array([ 0.76864003, -0.35390594, -0.52754922, -0.075066  ]),\n",
       " array([-0.54930157,  0.38435067, -0.05754459,  0.73975061]),\n",
       " 0.46)"
      ]
     },
     "execution_count": 83,
     "metadata": {},
     "output_type": "execute_result"
    }
   ],
   "source": [
    "result[0][0], result[0][1], result[0][2]"
   ]
  },
  {
   "cell_type": "code",
   "execution_count": 100,
   "metadata": {},
   "outputs": [
    {
     "name": "stderr",
     "output_type": "stream",
     "text": [
      "/usr/lib/python3.6/site-packages/scipy/optimize/optimize.py:643: ComplexWarning: Casting complex values to real discards the imaginary part\n",
      "  grad[k] = (f(*((xk + d,) + args)) - f0) / d[k]\n",
      "/usr/lib/python3.6/site-packages/scipy/optimize/linesearch.py:171: ComplexWarning: Casting complex values to real discards the imaginary part\n",
      "  amin, amax, isave, dsave)\n"
     ]
    }
   ],
   "source": [
    "x0 = [0.5, 0.5, 0.5, 0.5, 1]\n",
    "optimization_result = minimize(loss_function, x0, method=  )"
   ]
  },
  {
   "cell_type": "code",
   "execution_count": 101,
   "metadata": {},
   "outputs": [
    {
     "data": {
      "text/plain": [
       "      fun: 0.006827997440026877\n",
       " hess_inv: array([[ 2.48855424e+03,  4.80567131e+02, -6.95184083e+00,\n",
       "        -4.37717614e+00, -5.48068881e+03],\n",
       "       [ 4.80567131e+02,  9.35760403e+01, -9.50692694e-01,\n",
       "        -1.11750130e+00, -1.05854853e+03],\n",
       "       [-6.95184083e+00, -9.50692694e-01,  3.57113837e+00,\n",
       "        -5.01213980e-01,  1.51504983e+01],\n",
       "       [-4.37717614e+00, -1.11750130e+00, -5.01213980e-01,\n",
       "         3.04418632e+00,  9.89027464e+00],\n",
       "       [-5.48068881e+03, -1.05854853e+03,  1.51504983e+01,\n",
       "         9.89027464e+00,  1.20767580e+04]])\n",
       "      jac: array([ 2.58442014e-08,  3.21248081e-07, -2.57277861e-08,  2.42143869e-08,\n",
       "        1.46683306e-08])\n",
       "  message: 'Optimization terminated successfully.'\n",
       "     nfev: 560\n",
       "      nit: 67\n",
       "     njev: 80\n",
       "   status: 0\n",
       "  success: True\n",
       "        x: array([-1.75589707e-01,  9.06194662e-01, -3.55382106e-02,  3.12071306e-04,\n",
       "        3.51495145e+00])"
      ]
     },
     "execution_count": 101,
     "metadata": {},
     "output_type": "execute_result"
    }
   ],
   "source": [
    "optimization_result"
   ]
  },
  {
   "cell_type": "code",
   "execution_count": 102,
   "metadata": {},
   "outputs": [
    {
     "data": {
      "text/plain": [
       "[-0.176, 0.906, -0.036, 0.0, 3.515]"
      ]
     },
     "execution_count": 102,
     "metadata": {},
     "output_type": "execute_result"
    }
   ],
   "source": [
    "[round(item, 3) for item in optimization_result.x]"
   ]
  },
  {
   "cell_type": "code",
   "execution_count": 105,
   "metadata": {},
   "outputs": [],
   "source": [
    "import pickle"
   ]
  },
  {
   "cell_type": "code",
   "execution_count": 121,
   "metadata": {},
   "outputs": [],
   "source": [
    "with open('dump5.pkl','rb') as file:\n",
    "    result5 = pickle.load(file)"
   ]
  },
  {
   "cell_type": "code",
   "execution_count": 122,
   "metadata": {},
   "outputs": [],
   "source": [
    "result = result5"
   ]
  },
  {
   "cell_type": "code",
   "execution_count": 129,
   "metadata": {},
   "outputs": [
    {
     "name": "stderr",
     "output_type": "stream",
     "text": [
      "/usr/lib/python3.6/site-packages/scipy/optimize/optimize.py:643: ComplexWarning: Casting complex values to real discards the imaginary part\n",
      "  grad[k] = (f(*((xk + d,) + args)) - f0) / d[k]\n",
      "/usr/lib/python3.6/site-packages/scipy/optimize/linesearch.py:171: ComplexWarning: Casting complex values to real discards the imaginary part\n",
      "  amin, amax, isave, dsave)\n"
     ]
    }
   ],
   "source": [
    "x0 = [0.1, 0.3, 0.4, 0.2, 1]\n",
    "optimization_result = minimize(loss_function, x0, method= )"
   ]
  },
  {
   "cell_type": "code",
   "execution_count": 130,
   "metadata": {},
   "outputs": [
    {
     "data": {
      "text/plain": [
       "      fun: 0.00034432667151237045\n",
       " hess_inv: array([[  6.0137323 ,   5.62207237,  -5.39188315,   4.40363901,\n",
       "         19.16939685],\n",
       "       [  5.62207237,   8.40302585,  -6.11337091,   7.32759126,\n",
       "         24.83882574],\n",
       "       [ -5.39188315,  -6.11337091,   8.0868996 ,  -6.95737218,\n",
       "        -22.08780723],\n",
       "       [  4.40363901,   7.32759126,  -6.95737218,  10.50218027,\n",
       "         25.09951322],\n",
       "       [ 19.16939685,  24.83882574, -22.08780723,  25.09951322,\n",
       "         89.45632652]])\n",
       "      jac: array([-1.38740870e-06,  5.74002479e-06, -3.97110489e-06, -5.02910916e-06,\n",
       "       -9.53623385e-07])\n",
       "  message: 'Optimization terminated successfully.'\n",
       "     nfev: 266\n",
       "      nit: 33\n",
       "     njev: 38\n",
       "   status: 0\n",
       "  success: True\n",
       "        x: array([ 0.51010495, -0.42766266,  0.46588217,  0.501709  ,  2.33130021])"
      ]
     },
     "execution_count": 130,
     "metadata": {},
     "output_type": "execute_result"
    }
   ],
   "source": [
    "optimization_result"
   ]
  },
  {
   "cell_type": "code",
   "execution_count": 125,
   "metadata": {},
   "outputs": [],
   "source": [
    "a = optimization_result.x[0] + optimization_result.x[1]*1j\n",
    "b = optimization_result.x[2] + optimization_result.x[3]*1j\n",
    "phi = optimization_result.x[4]"
   ]
  },
  {
   "cell_type": "code",
   "execution_count": 126,
   "metadata": {},
   "outputs": [
    {
     "data": {
      "text/plain": [
       "(-0.04236580503008397-0.6833628933441832j)"
      ]
     },
     "execution_count": 126,
     "metadata": {},
     "output_type": "execute_result"
    }
   ],
   "source": [
    "-np.exp(1j*phi)*np.conj(b)"
   ]
  },
  {
   "cell_type": "code",
   "execution_count": 127,
   "metadata": {},
   "outputs": [
    {
     "data": {
      "text/plain": [
       "(-0.6614413241976673+0.0747767906858906j)"
      ]
     },
     "execution_count": 127,
     "metadata": {},
     "output_type": "execute_result"
    }
   ],
   "source": [
    "np.exp(1j*phi)*np.conj(a)"
   ]
  },
  {
   "cell_type": "code",
   "execution_count": null,
   "metadata": {},
   "outputs": [],
   "source": []
  }
 ],
 "metadata": {
  "kernelspec": {
   "display_name": "Python 3",
   "language": "python",
   "name": "python3"
  },
  "language_info": {
   "codemirror_mode": {
    "name": "ipython",
    "version": 3
   },
   "file_extension": ".py",
   "mimetype": "text/x-python",
   "name": "python",
   "nbconvert_exporter": "python",
   "pygments_lexer": "ipython3",
   "version": "3.6.4"
  }
 },
 "nbformat": 4,
 "nbformat_minor": 2
}
