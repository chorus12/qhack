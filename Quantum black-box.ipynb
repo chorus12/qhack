{
 "cells": [
  {
   "cell_type": "markdown",
   "metadata": {},
   "source": [
    "# Решение задачи №1 - Квантовый черный ящик - восстановление параметров квантового преобразования"
   ]
  },
  {
   "cell_type": "markdown",
   "metadata": {},
   "source": [
    "**Решение команды №5:**   \n",
    "Дмитрий Норкин,  \n",
    "Екатерина Сажина,   \n",
    "Сергей Бажин,  \n",
    "Татьяна и Мария "
   ]
  },
  {
   "cell_type": "code",
   "execution_count": 181,
   "metadata": {},
   "outputs": [],
   "source": [
    "import numpy as np\n",
    "from scipy.optimize import minimize\n",
    "import json\n",
    "# библиотека для рисования прогресс-бара\n",
    "from tqdm import tqdm\n",
    "import pickle"
   ]
  },
  {
   "cell_type": "code",
   "execution_count": 143,
   "metadata": {},
   "outputs": [
    {
     "data": {
      "text/plain": [
       "array([-0.63357551, -0.41477243,  0.08384084, -0.64770102])"
      ]
     },
     "execution_count": 143,
     "metadata": {},
     "output_type": "execute_result"
    }
   ],
   "source": [
    "# создание произвольного нормального вектора размерности 4 -> далее\n",
    "# из него через функцию generate_complex_vector получается вектор размерности 2 из комплексных чисел\n",
    "def generateState():\n",
    "    s0 = np.random.random_sample() * 2 - 1\n",
    "    s1 = np.random.random_sample() * 2 - 1\n",
    "    s2 = np.random.random_sample() * 2 - 1\n",
    "    s3 = np.random.random_sample() * 2 - 1\n",
    "    state = np.array([s0, s1, s2, s3]/np.sqrt(s0 ** 2 + s1 ** 2 + s2 ** 2 + s3 ** 2))\n",
    "    return state\n",
    "\n",
    "# функция для создания комплексного вектора из вещественной основы\n",
    "def generate_complex_vector(state):\n",
    "    return( state[0]+state[1]*1j,  state[2]+state[3]*1j )\n",
    "\n",
    "generateState()"
   ]
  },
  {
   "cell_type": "code",
   "execution_count": 144,
   "metadata": {},
   "outputs": [],
   "source": [
    "# расчет теоритической вероятности на основе \n",
    "# пара комплексных чисел alpha , beta - входной вектор\n",
    "# пара комплексных чисел m, n - базис измерения выходного состояния\n",
    "# a, b, phi - параметры унитарной матрицы преобразования которую необходимо найти\n",
    "# a, b - комплексные, phi - вещественное\n",
    "def probability(a, b, phi, alpha, beta, m, n):\n",
    "    part1 = np.abs(m) ** 2 * np.abs((a * alpha + b * beta)) ** 2\n",
    "    part2 = np.conj(m) * n * (a*alpha + b*beta) * np.exp(-phi*1j) * (a*np.conj(beta) - alpha*np.conj(b))\n",
    "    part3 = m * np.conj(n) * (np.conj(a)*np.conj(alpha) + np.conj(b)*np.conj(beta)) * np.exp(phi*1j) * (np.conj(a)*beta - np.conj(b)*alpha)\n",
    "    part4 = np.abs(n) ** 2 * np.abs(np.conj(a)*beta - alpha*np.conj(b))\n",
    "    return part1 + part2 + part3 + part4"
   ]
  },
  {
   "cell_type": "code",
   "execution_count": 146,
   "metadata": {},
   "outputs": [],
   "source": [
    "# читаем пароль из файла формата {\"password\":\"значение пароля\"}\n",
    "with open('password.json', 'r') as file:\n",
    "    secret = json.load(file)\n",
    "password = secret['password']"
   ]
  },
  {
   "cell_type": "markdown",
   "metadata": {},
   "source": [
    "###  Задаём начальне параметры алгоритма"
   ]
  },
  {
   "cell_type": "code",
   "execution_count": 153,
   "metadata": {},
   "outputs": [],
   "source": [
    "# индекс преобразования - целое число от 0 до 5, \n",
    "# 0-2 - тренировочные, \n",
    "# 3-5 - боевые на зачёт\n",
    "process_index = 0\n",
    "\n",
    "# число измерений итогового состояния\n",
    "number_of_states = 100\n",
    "\n",
    "# число входных кубитов (входных векторов для черного ящика)\n",
    "NUMBER_OF_INPUT_STATES = 100"
   ]
  },
  {
   "cell_type": "code",
   "execution_count": 173,
   "metadata": {},
   "outputs": [],
   "source": [
    "# функция расчёта отклонения теоритической вероятности (расчитанной через функцию probability) от \n",
    "# экспериментальной (измерена через обращение к функции run_measurement)\n",
    "def loss_function(params, result):\n",
    "    ar, ai, br , bi, phi = params\n",
    "    N = len(result)\n",
    "    mnk = 0\n",
    "    for result_item in result:\n",
    "        # получение величин измерения\n",
    "        state = result_item[0]\n",
    "        projector = result_item[1]\n",
    "        p0_measured = result_item[2]\n",
    "        \n",
    "        # вычисление теоритической вероятности\n",
    "        alpha, beta = generate_complex_vector(state) \n",
    "        m, n = generate_complex_vector(projector)\n",
    "        a = ar + ai*1j\n",
    "        b = br + bi*1j\n",
    "        p0_theoretical = probability(a, b, phi, alpha, beta, m, n)\n",
    "        mnk += pow((p0_theoretical - p0_measured),2)\n",
    "    mnk = mnk/N\n",
    "    return(mnk)"
   ]
  },
  {
   "cell_type": "markdown",
   "metadata": {},
   "source": [
    "### отладочный вывод - проверим, что все функции реализованы корректно"
   ]
  },
  {
   "cell_type": "code",
   "execution_count": 149,
   "metadata": {},
   "outputs": [
    {
     "data": {
      "text/plain": [
       "(1.7416306535453403+0.12014487245285516j)"
      ]
     },
     "execution_count": 149,
     "metadata": {},
     "output_type": "execute_result"
    }
   ],
   "source": [
    "# вещественная основа для входного вектора\n",
    "state = generateState()\n",
    "# вещественная основа для базиса в котором проводим измерение\n",
    "projector = generateState()\n",
    "\n",
    "# входной вектор (комплексные числа)\n",
    "alpha, beta = generate_complex_vector(state) \n",
    "\n",
    "# комплексный базис измерения\n",
    "m, n = generate_complex_vector(projector)\n",
    "\n",
    "# Initial parameters\n",
    "a = 1+1*1j\n",
    "b = 0+1*1j\n",
    "phi = 0\n",
    "\n",
    "probability(a, b, phi, alpha, beta, m, n)"
   ]
  },
  {
   "cell_type": "code",
   "execution_count": 150,
   "metadata": {},
   "outputs": [],
   "source": [
    "# функция измерения состояния\n",
    "def run_measurement(state, projector, process_index=0, number_of_states=100):\n",
    "    \"\"\"\n",
    "    выполняет измерение состояния выходного кубита и возвращает пару чисел n0 и n1, где n0+n1 = number_of_states\n",
    "    \n",
    "    state - матрица из 4 чисел, представляющая собой вектор из комплексных элементов, входное состояние \n",
    "    преобразования\n",
    "    \n",
    "    projector - матрица из 4 чисел, представляющая собой вектор из комплексных элементов, базис измерения выходного\n",
    "    состояния\n",
    "    \n",
    "    process_index - код преобразования для которого измеряется выходной вектор\n",
    "    целое число от 0 до 5\n",
    "    0-2 - тренировочные, \n",
    "    3-5 - боевые на зачёт\n",
    "    number_of_states - число измеренных состояний выходного вектора\n",
    "    \"\"\"\n",
    "    import socket, sys\n",
    "\n",
    "    #request = password + ' 1 100 0.5 0.5 0.5 0.5 1 0 0 0'\n",
    "\n",
    "    request = password + ' ' + str(process_index)+ ' ' + str(number_of_states) + ' ' + \\\n",
    "    ' '.join([str(elem) for elem in np.append(state, projector)])\n",
    "\n",
    "\n",
    "    host = 'ape.qotlabs.org'\n",
    "    port = 2018\n",
    "\n",
    "    s = socket.socket(socket.AF_INET, socket.SOCK_STREAM)\n",
    "    s.settimeout(2)\n",
    "\n",
    "    try:\n",
    "        s.connect((host, port))\n",
    "    except:\n",
    "        print('Unable to connect')\n",
    "        sys.exit()\n",
    "\n",
    "    s.send(request.encode())\n",
    "    data = s.recv(4096).decode()\n",
    "    n = [int(item) for item in data.split()]\n",
    "    return(n[0], n[1])"
   ]
  },
  {
   "cell_type": "code",
   "execution_count": 151,
   "metadata": {},
   "outputs": [
    {
     "data": {
      "text/plain": [
       "(26, 74)"
      ]
     },
     "execution_count": 151,
     "metadata": {},
     "output_type": "execute_result"
    }
   ],
   "source": [
    "run_measurement(state, projector)"
   ]
  },
  {
   "cell_type": "code",
   "execution_count": 165,
   "metadata": {},
   "outputs": [],
   "source": [
    "def perform_complete_measurement(process_index = 0, number_of_input_states = NUMBER_OF_INPUT_STATES):\n",
    "    \n",
    "    # список с итоговыми измерениями вероятности и входными данными\n",
    "    result = []\n",
    "    for i in tqdm(range(0,number_of_input_states)):\n",
    "        # генерируем вход. состояние\n",
    "        state = generateState()\n",
    "        projector = generateState()\n",
    "        n = run_measurement(state, projector)\n",
    "        p0 = n[0] / number_of_states\n",
    "        result.append((state, projector, p0))\n",
    "    return (result)"
   ]
  },
  {
   "cell_type": "code",
   "execution_count": 167,
   "metadata": {},
   "outputs": [
    {
     "name": "stderr",
     "output_type": "stream",
     "text": [
      "100%|██████████| 100/100 [00:01<00:00, 65.13it/s]"
     ]
    },
    {
     "name": "stdout",
     "output_type": "stream",
     "text": [
      "CPU times: user 116 ms, sys: 42.6 ms, total: 158 ms\n",
      "Wall time: 1.54 s\n"
     ]
    },
    {
     "name": "stderr",
     "output_type": "stream",
     "text": [
      "\n"
     ]
    }
   ],
   "source": [
    "%%time\n",
    "# получаем результат измерений для нулевого преобразования\n",
    "result0 = perform_complete_measurement(process_index = 0)   "
   ]
  },
  {
   "cell_type": "code",
   "execution_count": 168,
   "metadata": {},
   "outputs": [
    {
     "name": "stderr",
     "output_type": "stream",
     "text": [
      "100%|██████████| 100/100 [00:01<00:00, 77.76it/s]"
     ]
    },
    {
     "name": "stdout",
     "output_type": "stream",
     "text": [
      "CPU times: user 132 ms, sys: 30.2 ms, total: 162 ms\n",
      "Wall time: 1.29 s\n"
     ]
    },
    {
     "name": "stderr",
     "output_type": "stream",
     "text": [
      "\n"
     ]
    }
   ],
   "source": [
    "%%time\n",
    "# получаем результат измерений для нулевого преобразования\n",
    "result1 = perform_complete_measurement(process_index = 1)   "
   ]
  },
  {
   "cell_type": "code",
   "execution_count": 169,
   "metadata": {},
   "outputs": [
    {
     "name": "stderr",
     "output_type": "stream",
     "text": [
      "100%|██████████| 100/100 [00:01<00:00, 79.18it/s]"
     ]
    },
    {
     "name": "stdout",
     "output_type": "stream",
     "text": [
      "CPU times: user 114 ms, sys: 36.7 ms, total: 151 ms\n",
      "Wall time: 1.27 s\n"
     ]
    },
    {
     "name": "stderr",
     "output_type": "stream",
     "text": [
      "\n"
     ]
    }
   ],
   "source": [
    "%%time\n",
    "# получаем результат измерений для нулевого преобразования\n",
    "result2 = perform_complete_measurement(process_index = 2)   "
   ]
  },
  {
   "cell_type": "code",
   "execution_count": 170,
   "metadata": {},
   "outputs": [
    {
     "data": {
      "text/plain": [
       "(array([ 0.62006238, -0.04210918,  0.23026873, -0.74881625]),\n",
       " array([-0.21209376,  0.40199031,  0.63027525, -0.62942286]),\n",
       " 0.53)"
      ]
     },
     "execution_count": 170,
     "metadata": {},
     "output_type": "execute_result"
    }
   ],
   "source": [
    "result0[0][0], result0[0][1], result0[0][2]"
   ]
  },
  {
   "cell_type": "markdown",
   "metadata": {},
   "source": [
    "###  Находим параметры преобразования через оптимизацию функции потерь"
   ]
  },
  {
   "cell_type": "code",
   "execution_count": 176,
   "metadata": {},
   "outputs": [
    {
     "name": "stderr",
     "output_type": "stream",
     "text": [
      "/usr/lib/python3.6/site-packages/scipy/optimize/optimize.py:643: ComplexWarning: Casting complex values to real discards the imaginary part\n",
      "  grad[k] = (f(*((xk + d,) + args)) - f0) / d[k]\n",
      "/usr/lib/python3.6/site-packages/scipy/optimize/lbfgsb.py:328: ComplexWarning: Casting complex values to real discards the imaginary part\n",
      "  isave, dsave, maxls)\n"
     ]
    },
    {
     "data": {
      "text/plain": [
       "      fun: (0.007198317094138418-1.462700411771958e-05j)\n",
       " hess_inv: <5x5 LbfgsInvHessProduct with dtype=float64>\n",
       "      jac: array([ 6.19894761e-06, -8.67301023e-06, -2.81632356e-07, -2.36338726e-06,\n",
       "        1.14387666e-06])\n",
       "  message: b'CONVERGENCE: NORM_OF_PROJECTED_GRADIENT_<=_PGTOL'\n",
       "     nfev: 450\n",
       "      nit: 59\n",
       "   status: 0\n",
       "  success: True\n",
       "        x: array([ 0.6864223 , -0.62495438,  0.00660917,  0.05271808, -1.46859191])"
      ]
     },
     "execution_count": 176,
     "metadata": {},
     "output_type": "execute_result"
    }
   ],
   "source": [
    "# начальная точка\n",
    "x0 = [0.5, 0.5, 0.5, 0.5, 1]\n",
    "# доп. параметры для функции потерь - наши данные о входном векторе, базисе измерения и измеренной вероятности\n",
    "args = (result0)\n",
    "optimization_result = minimize(loss_function, x0, args=args, method='L-BFGS-B')\n",
    "optimization_result"
   ]
  },
  {
   "cell_type": "code",
   "execution_count": 187,
   "metadata": {},
   "outputs": [],
   "source": [
    "# получение итоговой матрицы преобразования\n",
    "def get_black_box_matrix(optimization_result):\n",
    "    a = optimization_result.x[0] + optimization_result.x[1]*1j\n",
    "    b = optimization_result.x[2] + optimization_result.x[3]*1j\n",
    "    phi = optimization_result.x[4]\n",
    "    \n",
    "    black_box = np.array([[a , b],\n",
    "                          [-np.exp(1j*phi)*np.conj(b), np.exp(1j*phi)*np.conj(a)]])\n",
    "    \n",
    "    return(black_box)"
   ]
  },
  {
   "cell_type": "markdown",
   "metadata": {},
   "source": [
    "###  Это итоговые данные по оптимизации преобразвания 0"
   ]
  },
  {
   "cell_type": "code",
   "execution_count": 182,
   "metadata": {},
   "outputs": [
    {
     "data": {
      "text/plain": [
       "[0.6862669, -0.6251177, 0.0066188, 0.052728, -1.4690923]"
      ]
     },
     "execution_count": 182,
     "metadata": {},
     "output_type": "execute_result"
    }
   ],
   "source": [
    "[round(item, 7) for item in optimization_result.x]"
   ]
  },
  {
   "cell_type": "code",
   "execution_count": 183,
   "metadata": {},
   "outputs": [
    {
     "data": {
      "text/plain": [
       "((0.6862669057603956-0.6251177298046051j),\n",
       " (0.006618795194369992+0.05272801551057072j),\n",
       " -1.4690923203311566)"
      ]
     },
     "execution_count": 183,
     "metadata": {},
     "output_type": "execute_result"
    }
   ],
   "source": [
    "a = optimization_result.x[0] + optimization_result.x[1]*1j\n",
    "b = optimization_result.x[2] + optimization_result.x[3]*1j\n",
    "phi = optimization_result.x[4]\n",
    "a, b, phi"
   ]
  },
  {
   "cell_type": "markdown",
   "metadata": {},
   "source": [
    "### Получение ответов на боевых данных\n",
    "Поскольку на боевых данных ответ можно получить только 1 раз - они сохранены в файлы dump3,4,5"
   ]
  },
  {
   "cell_type": "markdown",
   "metadata": {},
   "source": [
    "###  5-ый ящик"
   ]
  },
  {
   "cell_type": "code",
   "execution_count": 192,
   "metadata": {},
   "outputs": [],
   "source": [
    "# загружаем данные\n",
    "with open('dump5.pkl','rb') as file:\n",
    "    result5 = pickle.load(file)"
   ]
  },
  {
   "cell_type": "code",
   "execution_count": 185,
   "metadata": {},
   "outputs": [
    {
     "name": "stderr",
     "output_type": "stream",
     "text": [
      "/usr/lib/python3.6/site-packages/scipy/optimize/optimize.py:643: ComplexWarning: Casting complex values to real discards the imaginary part\n",
      "  grad[k] = (f(*((xk + d,) + args)) - f0) / d[k]\n",
      "/usr/lib/python3.6/site-packages/scipy/optimize/lbfgsb.py:328: ComplexWarning: Casting complex values to real discards the imaginary part\n",
      "  isave, dsave, maxls)\n"
     ]
    },
    {
     "data": {
      "text/plain": [
       "      fun: (0.0003443266298777796-0.0017071250261712196j)\n",
       " hess_inv: <5x5 LbfgsInvHessProduct with dtype=float64>\n",
       "      jac: array([-1.14142094e-06,  1.44417898e-06, -9.00175117e-07,  2.01986865e-08,\n",
       "       -6.99451348e-07])\n",
       "  message: b'CONVERGENCE: NORM_OF_PROJECTED_GRADIENT_<=_PGTOL'\n",
       "     nfev: 234\n",
       "      nit: 32\n",
       "   status: 0\n",
       "  success: True\n",
       "        x: array([ 0.51008814, -0.42767797,  0.46589494,  0.50171197,  2.33126327])"
      ]
     },
     "execution_count": 185,
     "metadata": {},
     "output_type": "execute_result"
    }
   ],
   "source": [
    "x0 = [0.1, 0.3, 0.4, 0.2, 1]\n",
    "args = (result5)\n",
    "optimization_result = minimize(loss_function, x0, args=args, method='L-BFGS-B')\n",
    "optimization_result"
   ]
  },
  {
   "cell_type": "code",
   "execution_count": 191,
   "metadata": {},
   "outputs": [
    {
     "data": {
      "text/plain": [
       "array([[ 0.51008814-0.42767797j,  0.46589494+0.50171197j],\n",
       "       [-0.04237481-0.68335743j, -0.66144205+0.07478488j]])"
      ]
     },
     "execution_count": 191,
     "metadata": {},
     "output_type": "execute_result"
    }
   ],
   "source": [
    "get_black_box_matrix(optimization_result)"
   ]
  },
  {
   "cell_type": "markdown",
   "metadata": {},
   "source": [
    "###  Для 4-ого черного ящика"
   ]
  },
  {
   "cell_type": "code",
   "execution_count": 193,
   "metadata": {},
   "outputs": [],
   "source": [
    "# загружаем данные\n",
    "with open('dump4.pkl','rb') as file:\n",
    "    result4 = pickle.load(file)"
   ]
  },
  {
   "cell_type": "code",
   "execution_count": 194,
   "metadata": {},
   "outputs": [
    {
     "name": "stderr",
     "output_type": "stream",
     "text": [
      "/usr/lib/python3.6/site-packages/scipy/optimize/optimize.py:643: ComplexWarning: Casting complex values to real discards the imaginary part\n",
      "  grad[k] = (f(*((xk + d,) + args)) - f0) / d[k]\n",
      "/usr/lib/python3.6/site-packages/scipy/optimize/lbfgsb.py:328: ComplexWarning: Casting complex values to real discards the imaginary part\n",
      "  isave, dsave, maxls)\n"
     ]
    },
    {
     "data": {
      "text/plain": [
       "      fun: (-0.017831400523716127+0.015167070879511718j)\n",
       " hess_inv: <5x5 LbfgsInvHessProduct with dtype=float64>\n",
       "      jac: array([ 5.26419186e-06,  1.25940924e-07, -2.85882429e-07, -1.42073853e-06,\n",
       "        6.58847976e-07])\n",
       "  message: b'CONVERGENCE: NORM_OF_PROJECTED_GRADIENT_<=_PGTOL'\n",
       "     nfev: 108\n",
       "      nit: 15\n",
       "   status: 0\n",
       "  success: True\n",
       "        x: array([ 0.21289382,  0.05285397,  1.00178535, -0.37329921,  0.21362004])"
      ]
     },
     "execution_count": 194,
     "metadata": {},
     "output_type": "execute_result"
    }
   ],
   "source": [
    "x0 = [0.1, 0.3, 0.4, 0.2, 1]\n",
    "args = (result4)\n",
    "optimization_result = minimize(loss_function, x0, args=args, method='L-BFGS-B')\n",
    "optimization_result"
   ]
  },
  {
   "cell_type": "code",
   "execution_count": 195,
   "metadata": {},
   "outputs": [
    {
     "data": {
      "text/plain": [
       "array([[ 0.21289382+0.05285397j,  1.00178535-0.37329921j],\n",
       "       [-0.89987557-0.5771916 j,  0.21925971-0.00651931j]])"
      ]
     },
     "execution_count": 195,
     "metadata": {},
     "output_type": "execute_result"
    }
   ],
   "source": [
    "get_black_box_matrix(optimization_result)"
   ]
  },
  {
   "cell_type": "markdown",
   "metadata": {},
   "source": [
    "###  Для 3-его черного ящика"
   ]
  },
  {
   "cell_type": "code",
   "execution_count": 196,
   "metadata": {},
   "outputs": [],
   "source": [
    "# загружаем данные\n",
    "with open('dump3.pkl','rb') as file:\n",
    "    result3 = pickle.load(file)"
   ]
  },
  {
   "cell_type": "code",
   "execution_count": 197,
   "metadata": {},
   "outputs": [
    {
     "name": "stderr",
     "output_type": "stream",
     "text": [
      "/usr/lib/python3.6/site-packages/scipy/optimize/optimize.py:643: ComplexWarning: Casting complex values to real discards the imaginary part\n",
      "  grad[k] = (f(*((xk + d,) + args)) - f0) / d[k]\n",
      "/usr/lib/python3.6/site-packages/scipy/optimize/lbfgsb.py:328: ComplexWarning: Casting complex values to real discards the imaginary part\n",
      "  isave, dsave, maxls)\n"
     ]
    },
    {
     "data": {
      "text/plain": [
       "      fun: (0.004131297049801436+0.000990659211232728j)\n",
       " hess_inv: <5x5 LbfgsInvHessProduct with dtype=float64>\n",
       "      jac: array([-6.30511268e-06,  6.44475792e-06, -6.56662225e-06,  6.68215483e-07,\n",
       "        3.56572410e-07])\n",
       "  message: b'CONVERGENCE: NORM_OF_PROJECTED_GRADIENT_<=_PGTOL'\n",
       "     nfev: 132\n",
       "      nit: 19\n",
       "   status: 0\n",
       "  success: True\n",
       "        x: array([-0.68218174,  0.50257604,  0.32452351,  0.3180893 ,  1.42782481])"
      ]
     },
     "execution_count": 197,
     "metadata": {},
     "output_type": "execute_result"
    }
   ],
   "source": [
    "x0 = [0.1, 0.3, 0.4, 0.2, 1]\n",
    "args = (result3)\n",
    "optimization_result = minimize(loss_function, x0, args=args, method='L-BFGS-B')\n",
    "optimization_result"
   ]
  },
  {
   "cell_type": "code",
   "execution_count": 198,
   "metadata": {},
   "outputs": [
    {
     "data": {
      "text/plain": [
       "array([[-0.68218174+0.50257604j,  0.32452351+0.3180893 j],\n",
       "       [-0.36108354-0.27588945j,  0.40024762-0.74683094j]])"
      ]
     },
     "execution_count": 198,
     "metadata": {},
     "output_type": "execute_result"
    }
   ],
   "source": [
    "get_black_box_matrix(optimization_result)"
   ]
  },
  {
   "cell_type": "code",
   "execution_count": null,
   "metadata": {},
   "outputs": [],
   "source": []
  }
 ],
 "metadata": {
  "kernelspec": {
   "display_name": "Python 3",
   "language": "python",
   "name": "python3"
  },
  "language_info": {
   "codemirror_mode": {
    "name": "ipython",
    "version": 3
   },
   "file_extension": ".py",
   "mimetype": "text/x-python",
   "name": "python",
   "nbconvert_exporter": "python",
   "pygments_lexer": "ipython3",
   "version": "3.6.4"
  }
 },
 "nbformat": 4,
 "nbformat_minor": 2
}
